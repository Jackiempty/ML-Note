{
 "cells": [
  {
   "cell_type": "code",
   "execution_count": 1,
   "metadata": {},
   "outputs": [],
   "source": [
    "import os\n",
    "import csv\n",
    "import torch\n",
    "import numpy as np\n",
    "import pandas as pd\n",
    "import torch.nn as nn\n",
    "import torchvision\n",
    "import random\n",
    "import matplotlib.pyplot as plt\n",
    "import pandas as pd\n",
    "import torch.optim as optim\n",
    "import math\n",
    "import multiprocessing\n",
    "import time\n",
    "\n",
    "from PIL import Image\n",
    "from torchvision import transforms\n",
    "from torch.utils.data import Dataset, DataLoader, random_split\n",
    "from tqdm.notebook import tqdm\n",
    "from sklearn.model_selection import train_test_split\n",
    "from torchvision import datasets"
   ]
  },
  {
   "cell_type": "code",
   "execution_count": 2,
   "metadata": {},
   "outputs": [
    {
     "name": "stdout",
     "output_type": "stream",
     "text": [
      "['test', 'train']\n",
      "GPU is available.\n",
      "GPU device count: 1\n",
      "Current GPU device: 0\n",
      "GPU device name: NVIDIA GeForce RTX 3060\n",
      "Use device: cuda:0\n"
     ]
    }
   ],
   "source": [
    "DATA_PATH = os.path.join('./noodles_dataset_3k/')\n",
    "print(os.listdir(DATA_PATH))\n",
    "\n",
    "# use gpu if you have\n",
    "if torch.backends.mps.is_available():\n",
    "    mps_device = torch.device(\"mps\")\n",
    "    x = torch.ones(1, device=mps_device)\n",
    "    print (\"MPS device is available. Successfully initiated:\")\n",
    "    print (x)\n",
    "    device = mps_device\n",
    "elif torch.cuda.is_available():\n",
    "    device = torch.device(\"cuda:0\")\n",
    "    print(\"GPU is available.\")\n",
    "    print(\"GPU device count:\", torch.cuda.device_count())\n",
    "    print(\"Current GPU device:\", torch.cuda.current_device())\n",
    "    print(\"GPU device name:\", torch.cuda.get_device_name(torch.cuda.current_device()))\n",
    "else:\n",
    "    device = torch.device(\"cpu\")\n",
    "\n",
    "print(\"Use device:\",device)\n",
    "\n",
    "# set random seed\n",
    "SEED = int(time.time())\n",
    "torch.manual_seed(SEED)\n",
    "torch.cuda.manual_seed(SEED)\n",
    "np.random.seed(SEED)\n",
    "random.seed(SEED)\n",
    "torch.backends.cudnn.deterministic = True\n",
    "multiprocessing.set_start_method(\"fork\")"
   ]
  },
  {
   "cell_type": "code",
   "execution_count": 3,
   "metadata": {},
   "outputs": [],
   "source": [
    "train_transform = transforms.Compose([\n",
    "    transforms.RandomRotation(15,expand = True),\n",
    "    transforms.Resize((224, 224)),\n",
    "    transforms.RandomPerspective(distortion_scale=0.5, p=0.5),\n",
    "    transforms.RandomHorizontalFlip(0.5),\n",
    "    transforms.RandomVerticalFlip(0.5),\n",
    "    transforms.ToTensor(),\n",
    "    transforms.Normalize((0.485, 0.456, 0.406), (0.229, 0.224, 0.225))\n",
    "    ])\n",
    "valid_transform = transforms.Compose([\n",
    "    transforms.Resize((224, 224)),\n",
    "    transforms.ToTensor(),\n",
    "    transforms.Normalize((0.485, 0.456, 0.406), (0.229, 0.224, 0.225))\n",
    "    ])"
   ]
  },
  {
   "cell_type": "code",
   "execution_count": 4,
   "metadata": {},
   "outputs": [],
   "source": [
    "# Specify the path to the training folder.\n",
    "TRAINDATA_PATH = os.path.join('.','noodles_dataset_3k','train')\n",
    "# print(TRAINDATA_PATH)\n",
    "label_name = {\"0_spaghetti\": 0, \"1_ramen\": 1, \"2_udon\": 2}\n",
    "\n",
    "def get_img_info(data_dir):\n",
    "        imgpath = []\n",
    "        imglabel = []\n",
    "        for root, dirs, _ in os.walk(data_dir):\n",
    "            # print(\"root: \", root)\n",
    "            # print(\"dirs: \", dirs)\n",
    "            # Traverse categories\n",
    "            for sub_dir in dirs:\n",
    "                img_names = os.listdir(os.path.join(root, sub_dir))\n",
    "                img_names = list(filter(lambda x: x.endswith('.jpg'), img_names))\n",
    "\n",
    "                # Traverse images\n",
    "                for i in range(len(img_names)):\n",
    "                    img_name = img_names[i]\n",
    "                    path_img = os.path.join(root, sub_dir, img_name)\n",
    "                    label = label_name[sub_dir]\n",
    "                    imgpath.append(path_img)\n",
    "                    imglabel.append(int(label))\n",
    "\n",
    "        # Return image paths and labels in data_info\n",
    "        return imgpath,  imglabel\n",
    "\n",
    "imgpath,  imglabel = get_img_info(TRAINDATA_PATH)"
   ]
  },
  {
   "cell_type": "code",
   "execution_count": 5,
   "metadata": {},
   "outputs": [],
   "source": [
    "class Custom_dataset(Dataset):\n",
    "    def __init__(self,trainData,trainLabel,transform=None):\n",
    "        # --------------------------------------------\n",
    "        # Initialize paths, transforms, and so on\n",
    "        # --------------------------------------------\n",
    "        self.images = trainData\n",
    "        self.label = trainLabel\n",
    "        self.transform = transform\n",
    "\n",
    "    def __getitem__(self, index):\n",
    "        # --------------------------------------------\n",
    "        # 1. Read from file (using numpy.fromfile, PIL.Image.open)\n",
    "        # 2. Preprocess the data (torchvision.Transform).\n",
    "        # 3. Return the data (e.g. image and label)\n",
    "        # --------------------------------------------\n",
    "        imgpath = self.images[index]\n",
    "        img = Image.open(imgpath).convert('RGB')\n",
    "\n",
    "        label = self.label[index]\n",
    "        if self.transform:\n",
    "          img = self.transform(img)\n",
    "\n",
    "        return img, label\n",
    "\n",
    "    def __len__(self):\n",
    "        # --------------------------------------------\n",
    "        # Indicate the total size of the dataset\n",
    "        # --------------------------------------------\n",
    "        return len(self.images)"
   ]
  },
  {
   "cell_type": "code",
   "execution_count": 6,
   "metadata": {},
   "outputs": [
    {
     "name": "stdout",
     "output_type": "stream",
     "text": [
      "Number of total training data: 6767\n",
      "Number of total validation data: 1692\n"
     ]
    }
   ],
   "source": [
    "# Spilt the train and valid data\n",
    "train_img, val_img, train_label, val_label = train_test_split(imgpath, imglabel, test_size=0.2, random_state=42)\n",
    "\n",
    "train_set = Custom_dataset(train_img, train_label, transform=train_transform)\n",
    "valid_set = Custom_dataset(val_img, val_label, transform=valid_transform)\n",
    "\n",
    "print('Number of total training data:', len(train_set))\n",
    "print('Number of total validation data:', len(valid_set))\n",
    "\n",
    "class_num = 3\n",
    "classes = (\"spaghetti\", \"ramen\", \"udon\")\n",
    "\n",
    "# Loaded Datasets to DataLoaders\n",
    "# please change the batch_size\n",
    "trainloader = DataLoader(train_set, batch_size=16 , shuffle=True, num_workers = 0)\n",
    "validloader = DataLoader(valid_set, batch_size=16 , shuffle=False, num_workers = 0)"
   ]
  },
  {
   "cell_type": "code",
   "execution_count": 7,
   "metadata": {},
   "outputs": [
    {
     "name": "stderr",
     "output_type": "stream",
     "text": [
      "Clipping input data to the valid range for imshow with RGB data ([0..1] for floats or [0..255] for integers).\n"
     ]
    },
    {
     "name": "stdout",
     "output_type": "stream",
     "text": [
      "Image batch dimensions: torch.Size([16, 3, 224, 224])\n",
      "Image label dimensions: torch.Size([16])\n"
     ]
    },
    {
     "data": {
      "image/png": "[encoded data removed]",
      "text/plain": [
       "<Figure size 640x480 with 1 Axes>"
      ]
     },
     "metadata": {},
     "output_type": "display_data"
    },
    {
     "name": "stdout",
     "output_type": "stream",
     "text": [
      "Image batch dimensions:"
     ]
    },
    {
     "name": "stderr",
     "output_type": "stream",
     "text": [
      "Clipping input data to the valid range for imshow with RGB data ([0..1] for floats or [0..255] for integers).\n"
     ]
    },
    {
     "name": "stdout",
     "output_type": "stream",
     "text": [
      " torch.Size([16, 3, 224, 224])\n",
      "Image label dimensions: torch.Size([16])\n"
     ]
    },
    {
     "data": {
      "image/png": "[encoded data removed]",
      "text/plain": [
       "<Figure size 640x480 with 1 Axes>"
      ]
     },
     "metadata": {},
     "output_type": "display_data"
    }
   ],
   "source": [
    "import numpy as np\n",
    "import matplotlib.pyplot as plt\n",
    "\n",
    "# Checking the dataset\n",
    "for images, labels in trainloader:\n",
    "    print('Image batch dimensions:', images.shape)\n",
    "    print('Image label dimensions:', labels.shape)\n",
    "    break\n",
    "\n",
    "for img,labels in trainloader:\n",
    "    # load a batch from train data\n",
    "    break\n",
    "\n",
    "# this converts it from GPU to CPU and selects first image\n",
    "img = img.cpu().numpy()[0]\n",
    "#convert image back to Height,Width,Channels\n",
    "img = np.transpose(img, (1,2,0))\n",
    "#show the image\n",
    "plt.imshow(img)\n",
    "plt.show()\n",
    "\n",
    "for images, labels in validloader:\n",
    "    print('Image batch dimensions:', images.shape)\n",
    "    print('Image label dimensions:', labels.shape)\n",
    "    break\n",
    "\n",
    "for img_test,labels in validloader:\n",
    "    # load a batch from train data\n",
    "    break\n",
    "\n",
    "# this converts it from GPU to CPU and selects first image\n",
    "img_test = img_test.cpu().numpy()[0]\n",
    "#convert image back to Height,Width,Channels\n",
    "img_test = np.transpose(img_test, (1,2,0))\n",
    "#show the image\n",
    "plt.imshow(img_test)\n",
    "plt.show()"
   ]
  },
  {
   "cell_type": "code",
   "execution_count": 8,
   "metadata": {},
   "outputs": [
    {
     "data": {
      "text/plain": [
       "VGG16(\n",
       "  (conv_block): Sequential(\n",
       "    (0): Conv2d(3, 64, kernel_size=(3, 3), stride=(1, 1), padding=(1, 1))\n",
       "    (1): Dropout(p=0, inplace=2)\n",
       "    (2): BatchNorm2d(64, eps=1e-05, momentum=0.1, affine=True, track_running_stats=True)\n",
       "    (3): ReLU()\n",
       "    (4): Conv2d(64, 64, kernel_size=(3, 3), stride=(1, 1), padding=(1, 1))\n",
       "    (5): Dropout(p=0, inplace=2)\n",
       "    (6): BatchNorm2d(64, eps=1e-05, momentum=0.1, affine=True, track_running_stats=True)\n",
       "    (7): LeakyReLU(negative_slope=0.01)\n",
       "    (8): MaxPool2d(kernel_size=2, stride=2, padding=0, dilation=1, ceil_mode=False)\n",
       "    (9): Conv2d(64, 128, kernel_size=(3, 3), stride=(1, 1), padding=(1, 1))\n",
       "    (10): Dropout(p=0, inplace=2)\n",
       "    (11): BatchNorm2d(128, eps=1e-05, momentum=0.1, affine=True, track_running_stats=True)\n",
       "    (12): LeakyReLU(negative_slope=0.01)\n",
       "    (13): Conv2d(128, 128, kernel_size=(3, 3), stride=(1, 1), padding=(1, 1))\n",
       "    (14): Dropout(p=0, inplace=2)\n",
       "    (15): BatchNorm2d(128, eps=1e-05, momentum=0.1, affine=True, track_running_stats=True)\n",
       "    (16): ReLU()\n",
       "    (17): MaxPool2d(kernel_size=2, stride=2, padding=0, dilation=1, ceil_mode=False)\n",
       "    (18): Conv2d(128, 256, kernel_size=(3, 3), stride=(1, 1), padding=(1, 1))\n",
       "    (19): Dropout(p=0, inplace=2)\n",
       "    (20): BatchNorm2d(256, eps=1e-05, momentum=0.1, affine=True, track_running_stats=True)\n",
       "    (21): LeakyReLU(negative_slope=0.01)\n",
       "    (22): Conv2d(256, 256, kernel_size=(3, 3), stride=(1, 1), padding=(1, 1))\n",
       "    (23): Dropout(p=0, inplace=2)\n",
       "    (24): BatchNorm2d(256, eps=1e-05, momentum=0.1, affine=True, track_running_stats=True)\n",
       "    (25): ReLU()\n",
       "    (26): Conv2d(256, 256, kernel_size=(3, 3), stride=(1, 1), padding=(1, 1))\n",
       "    (27): Dropout(p=0, inplace=2)\n",
       "    (28): BatchNorm2d(256, eps=1e-05, momentum=0.1, affine=True, track_running_stats=True)\n",
       "    (29): LeakyReLU(negative_slope=0.01)\n",
       "    (30): MaxPool2d(kernel_size=2, stride=2, padding=0, dilation=1, ceil_mode=False)\n",
       "    (31): Conv2d(256, 512, kernel_size=(3, 3), stride=(1, 1), padding=(1, 1))\n",
       "    (32): Dropout(p=0, inplace=2)\n",
       "    (33): BatchNorm2d(512, eps=1e-05, momentum=0.1, affine=True, track_running_stats=True)\n",
       "    (34): ReLU()\n",
       "    (35): Conv2d(512, 512, kernel_size=(3, 3), stride=(1, 1), padding=(1, 1))\n",
       "    (36): Dropout(p=0, inplace=2)\n",
       "    (37): BatchNorm2d(512, eps=1e-05, momentum=0.1, affine=True, track_running_stats=True)\n",
       "    (38): LeakyReLU(negative_slope=0.01)\n",
       "    (39): MaxPool2d(kernel_size=2, stride=2, padding=0, dilation=1, ceil_mode=False)\n",
       "    (40): Conv2d(512, 512, kernel_size=(3, 3), stride=(1, 1), padding=(1, 1))\n",
       "    (41): Dropout(p=0, inplace=2)\n",
       "    (42): BatchNorm2d(512, eps=1e-05, momentum=0.1, affine=True, track_running_stats=True)\n",
       "    (43): ReLU()\n",
       "    (44): Conv2d(512, 512, kernel_size=(3, 3), stride=(1, 1), padding=(1, 1))\n",
       "    (45): BatchNorm2d(512, eps=1e-05, momentum=0.1, affine=True, track_running_stats=True)\n",
       "    (46): ReLU()\n",
       "    (47): Conv2d(512, 512, kernel_size=(3, 3), stride=(1, 1), padding=(1, 1))\n",
       "    (48): Dropout(p=0, inplace=2)\n",
       "    (49): BatchNorm2d(512, eps=1e-05, momentum=0.1, affine=True, track_running_stats=True)\n",
       "    (50): LeakyReLU(negative_slope=0.01)\n",
       "    (51): MaxPool2d(kernel_size=2, stride=2, padding=0, dilation=1, ceil_mode=False)\n",
       "  )\n",
       "  (feat_classifier): Sequential(\n",
       "    (0): Linear(in_features=25088, out_features=4096, bias=True)\n",
       "    (1): BatchNorm1d(4096, eps=1e-05, momentum=0.1, affine=True, track_running_stats=True)\n",
       "    (2): Dropout(p=0, inplace=2)\n",
       "    (3): ReLU()\n",
       "    (4): Linear(in_features=4096, out_features=2048, bias=True)\n",
       "    (5): BatchNorm1d(2048, eps=1e-05, momentum=0.1, affine=True, track_running_stats=True)\n",
       "    (6): Dropout(p=0, inplace=2)\n",
       "    (7): LeakyReLU(negative_slope=0.01)\n",
       "    (8): Linear(in_features=2048, out_features=1024, bias=True)\n",
       "    (9): BatchNorm1d(1024, eps=1e-05, momentum=0.1, affine=True, track_running_stats=True)\n",
       "    (10): Dropout(p=0, inplace=2)\n",
       "    (11): ReLU()\n",
       "    (12): Linear(in_features=1024, out_features=512, bias=True)\n",
       "    (13): BatchNorm1d(512, eps=1e-05, momentum=0.1, affine=True, track_running_stats=True)\n",
       "    (14): Dropout(p=0, inplace=2)\n",
       "    (15): ReLU()\n",
       "    (16): Linear(in_features=512, out_features=256, bias=True)\n",
       "    (17): BatchNorm1d(256, eps=1e-05, momentum=0.1, affine=True, track_running_stats=True)\n",
       "    (18): LeakyReLU(negative_slope=0.01)\n",
       "    (19): Linear(in_features=256, out_features=128, bias=True)\n",
       "    (20): Dropout(p=0, inplace=2)\n",
       "    (21): BatchNorm1d(128, eps=1e-05, momentum=0.1, affine=True, track_running_stats=True)\n",
       "    (22): ReLU()\n",
       "    (23): Linear(in_features=128, out_features=3, bias=True)\n",
       "    (24): Softmax(dim=1)\n",
       "  )\n",
       ")"
      ]
     },
     "execution_count": 8,
     "metadata": {},
     "output_type": "execute_result"
    }
   ],
   "source": [
    "##############################################\n",
    "# Build your model here!\n",
    "#\n",
    "# Practice:\n",
    "#   Try to implement VGG-16 with pytorch !\n",
    "##############################################\n",
    "class xception(nn.Module):\n",
    "    def __init__(self):\n",
    "        super(xception, self).__init__()\n",
    "\n",
    "    def three(in_channel, out_channel):\n",
    "\n",
    "class VGG16(nn.Module):\n",
    "    def __init__(self):\n",
    "        super(VGG16, self).__init__()\n",
    "\n",
    "        ##############################################################################\n",
    "        #                          TODO: implement VGG-16.                           #\n",
    "        ##############################################################################\n",
    "        self.conv_block = nn.Sequential(\n",
    "#---------------------------------------------------------------------------------------------------------------------------\n",
    "            nn.Conv2d(3,  64, kernel_size=3, stride=1, padding=1),\n",
    "            nn.Dropout(0,2),\n",
    "            nn.BatchNorm2d(64),\n",
    "            nn.ReLU(),\n",
    "\n",
    "            nn.Conv2d(64, 64, kernel_size=3, stride=1, padding=1),\n",
    "            nn.Dropout(0,2),\n",
    "            nn.BatchNorm2d(64),\n",
    "            nn.LeakyReLU(),\n",
    "\n",
    "            nn.MaxPool2d(kernel_size=2, stride=2),\n",
    "#---------------------------------------------------------------------------------------------------------------------------\n",
    "            nn.Conv2d(64, 128, kernel_size=3, stride=1, padding=1),\n",
    "            nn.Dropout(0,2),\n",
    "            nn.BatchNorm2d(128),\n",
    "            nn.LeakyReLU(),\n",
    "\n",
    "            nn.Conv2d(128, 128, kernel_size=3, stride=1, padding=1),\n",
    "            nn.Dropout(0,2),\n",
    "            nn.BatchNorm2d(128),\n",
    "            nn.ReLU(),\n",
    "\n",
    "            nn.MaxPool2d(kernel_size=2, stride=2),\n",
    "#---------------------------------------------------------------------------------------------------------------------------\n",
    "            nn.Conv2d(128, 256, kernel_size=3, stride=1, padding=1),\n",
    "            nn.Dropout(0,2),\n",
    "            nn.BatchNorm2d(256),\n",
    "            nn.LeakyReLU(),\n",
    "\n",
    "            nn.Conv2d(256, 256, kernel_size=3, stride=1, padding=1),\n",
    "            nn.Dropout(0,2),\n",
    "            nn.BatchNorm2d(256),\n",
    "            nn.ReLU(),\n",
    "\n",
    "            nn.Conv2d(256, 256, kernel_size=3, stride=1, padding=1),\n",
    "            nn.Dropout(0,2),\n",
    "            nn.BatchNorm2d(256),\n",
    "            nn.LeakyReLU(),\n",
    "\n",
    "            nn.MaxPool2d(kernel_size=2, stride=2),\n",
    "#---------------------------------------------------------------------------------------------------------------------------\n",
    "            nn.Conv2d(256, 512, kernel_size=3, stride=1, padding=1),\n",
    "            nn.Dropout(0,2),\n",
    "            nn.BatchNorm2d(512),\n",
    "            nn.ReLU(),\n",
    "\n",
    "            nn.Conv2d(512, 512, kernel_size=3, stride=1, padding=1),\n",
    "            nn.Dropout(0,2),\n",
    "            nn.BatchNorm2d(512),\n",
    "            nn.LeakyReLU(),\n",
    "\n",
    "            # nn.Conv2d(512, 512, kernel_size=3, stride=1, padding=1),\n",
    "            # nn.BatchNorm2d(512),\n",
    "            # nn.ReLU(),\n",
    "\n",
    "            nn.MaxPool2d(kernel_size=2, stride=2),\n",
    "#---------------------------------------------------------------------------------------------------------------------------\n",
    "            nn.Conv2d(512, 512, kernel_size=3, stride=1, padding=1),\n",
    "            nn.Dropout(0,2),\n",
    "            nn.BatchNorm2d(512),\n",
    "            nn.ReLU(),\n",
    "\n",
    "            nn.Conv2d(512, 512, kernel_size=3, stride=1, padding=1),\n",
    "            nn.BatchNorm2d(512),\n",
    "            nn.ReLU(),\n",
    "\n",
    "            nn.Conv2d(512, 512, kernel_size=3, stride=1, padding=1),\n",
    "            nn.Dropout(0,2),\n",
    "            nn.BatchNorm2d(512),\n",
    "            nn.LeakyReLU(),\n",
    "\n",
    "            nn.MaxPool2d(kernel_size=2, stride=2),\n",
    "        )\n",
    "#---------------------------------------------------------------------------------------------------------------------------\n",
    "        self.feat_classifier = nn.Sequential(\n",
    "            nn.Linear(7*7*512, 4096),\n",
    "            nn.BatchNorm1d(4096),\n",
    "            nn.Dropout(0, 2),\n",
    "            nn.ReLU(),\n",
    "\n",
    "\n",
    "            nn.Linear(4096, 2048),\n",
    "            nn.BatchNorm1d(2048),\n",
    "            nn.Dropout(0, 2),\n",
    "            nn.LeakyReLU(),\n",
    "\n",
    "\n",
    "            nn.Linear(2048, 1024),\n",
    "            nn.BatchNorm1d(1024),\n",
    "            nn.Dropout(0, 2),\n",
    "            nn.ReLU(),\n",
    "\n",
    "\n",
    "            nn.Linear(1024, 512),\n",
    "            nn.BatchNorm1d(512),\n",
    "            nn.Dropout(0, 2),\n",
    "            nn.ReLU(),\n",
    "\n",
    "\n",
    "            nn.Linear(512, 256),\n",
    "            nn.BatchNorm1d(256),\n",
    "            nn.LeakyReLU(),\n",
    "\n",
    "\n",
    "            nn.Linear(256, 128),\n",
    "            nn.Dropout(0,2),\n",
    "            nn.BatchNorm1d(128),\n",
    "            nn.ReLU(),\n",
    "\n",
    "            \n",
    "            nn.Linear(128, class_num),\n",
    "            nn.Softmax(dim=1)\n",
    "        )\n",
    "\n",
    "    def forward(self, x):\n",
    "        x = self.conv_block(x)\n",
    "        x = torch.flatten(x, 1)\n",
    "        x = self.feat_classifier(x)\n",
    "        return x\n",
    "\n",
    "model = VGG16()\n",
    "model.to(device)"
   ]
  },
  {
   "cell_type": "code",
   "execution_count": 9,
   "metadata": {},
   "outputs": [
    {
     "name": "stdout",
     "output_type": "stream",
     "text": [
      "device:  cuda:0\n"
     ]
    },
    {
     "data": {
      "text/plain": [
       "VGG16(\n",
       "  (conv_block): Sequential(\n",
       "    (0): Conv2d(3, 64, kernel_size=(3, 3), stride=(1, 1), padding=(1, 1))\n",
       "    (1): Dropout(p=0, inplace=2)\n",
       "    (2): BatchNorm2d(64, eps=1e-05, momentum=0.1, affine=True, track_running_stats=True)\n",
       "    (3): ReLU()\n",
       "    (4): Conv2d(64, 64, kernel_size=(3, 3), stride=(1, 1), padding=(1, 1))\n",
       "    (5): Dropout(p=0, inplace=2)\n",
       "    (6): BatchNorm2d(64, eps=1e-05, momentum=0.1, affine=True, track_running_stats=True)\n",
       "    (7): LeakyReLU(negative_slope=0.01)\n",
       "    (8): MaxPool2d(kernel_size=2, stride=2, padding=0, dilation=1, ceil_mode=False)\n",
       "    (9): Conv2d(64, 128, kernel_size=(3, 3), stride=(1, 1), padding=(1, 1))\n",
       "    (10): Dropout(p=0, inplace=2)\n",
       "    (11): BatchNorm2d(128, eps=1e-05, momentum=0.1, affine=True, track_running_stats=True)\n",
       "    (12): LeakyReLU(negative_slope=0.01)\n",
       "    (13): Conv2d(128, 128, kernel_size=(3, 3), stride=(1, 1), padding=(1, 1))\n",
       "    (14): Dropout(p=0, inplace=2)\n",
       "    (15): BatchNorm2d(128, eps=1e-05, momentum=0.1, affine=True, track_running_stats=True)\n",
       "    (16): ReLU()\n",
       "    (17): MaxPool2d(kernel_size=2, stride=2, padding=0, dilation=1, ceil_mode=False)\n",
       "    (18): Conv2d(128, 256, kernel_size=(3, 3), stride=(1, 1), padding=(1, 1))\n",
       "    (19): Dropout(p=0, inplace=2)\n",
       "    (20): BatchNorm2d(256, eps=1e-05, momentum=0.1, affine=True, track_running_stats=True)\n",
       "    (21): LeakyReLU(negative_slope=0.01)\n",
       "    (22): Conv2d(256, 256, kernel_size=(3, 3), stride=(1, 1), padding=(1, 1))\n",
       "    (23): Dropout(p=0, inplace=2)\n",
       "    (24): BatchNorm2d(256, eps=1e-05, momentum=0.1, affine=True, track_running_stats=True)\n",
       "    (25): ReLU()\n",
       "    (26): Conv2d(256, 256, kernel_size=(3, 3), stride=(1, 1), padding=(1, 1))\n",
       "    (27): Dropout(p=0, inplace=2)\n",
       "    (28): BatchNorm2d(256, eps=1e-05, momentum=0.1, affine=True, track_running_stats=True)\n",
       "    (29): LeakyReLU(negative_slope=0.01)\n",
       "    (30): MaxPool2d(kernel_size=2, stride=2, padding=0, dilation=1, ceil_mode=False)\n",
       "    (31): Conv2d(256, 512, kernel_size=(3, 3), stride=(1, 1), padding=(1, 1))\n",
       "    (32): Dropout(p=0, inplace=2)\n",
       "    (33): BatchNorm2d(512, eps=1e-05, momentum=0.1, affine=True, track_running_stats=True)\n",
       "    (34): ReLU()\n",
       "    (35): Conv2d(512, 512, kernel_size=(3, 3), stride=(1, 1), padding=(1, 1))\n",
       "    (36): Dropout(p=0, inplace=2)\n",
       "    (37): BatchNorm2d(512, eps=1e-05, momentum=0.1, affine=True, track_running_stats=True)\n",
       "    (38): LeakyReLU(negative_slope=0.01)\n",
       "    (39): MaxPool2d(kernel_size=2, stride=2, padding=0, dilation=1, ceil_mode=False)\n",
       "    (40): Conv2d(512, 512, kernel_size=(3, 3), stride=(1, 1), padding=(1, 1))\n",
       "    (41): Dropout(p=0, inplace=2)\n",
       "    (42): BatchNorm2d(512, eps=1e-05, momentum=0.1, affine=True, track_running_stats=True)\n",
       "    (43): ReLU()\n",
       "    (44): Conv2d(512, 512, kernel_size=(3, 3), stride=(1, 1), padding=(1, 1))\n",
       "    (45): BatchNorm2d(512, eps=1e-05, momentum=0.1, affine=True, track_running_stats=True)\n",
       "    (46): ReLU()\n",
       "    (47): Conv2d(512, 512, kernel_size=(3, 3), stride=(1, 1), padding=(1, 1))\n",
       "    (48): Dropout(p=0, inplace=2)\n",
       "    (49): BatchNorm2d(512, eps=1e-05, momentum=0.1, affine=True, track_running_stats=True)\n",
       "    (50): LeakyReLU(negative_slope=0.01)\n",
       "    (51): MaxPool2d(kernel_size=2, stride=2, padding=0, dilation=1, ceil_mode=False)\n",
       "  )\n",
       "  (feat_classifier): Sequential(\n",
       "    (0): Linear(in_features=25088, out_features=4096, bias=True)\n",
       "    (1): BatchNorm1d(4096, eps=1e-05, momentum=0.1, affine=True, track_running_stats=True)\n",
       "    (2): Dropout(p=0, inplace=2)\n",
       "    (3): ReLU()\n",
       "    (4): Linear(in_features=4096, out_features=2048, bias=True)\n",
       "    (5): BatchNorm1d(2048, eps=1e-05, momentum=0.1, affine=True, track_running_stats=True)\n",
       "    (6): Dropout(p=0, inplace=2)\n",
       "    (7): LeakyReLU(negative_slope=0.01)\n",
       "    (8): Linear(in_features=2048, out_features=1024, bias=True)\n",
       "    (9): BatchNorm1d(1024, eps=1e-05, momentum=0.1, affine=True, track_running_stats=True)\n",
       "    (10): Dropout(p=0, inplace=2)\n",
       "    (11): ReLU()\n",
       "    (12): Linear(in_features=1024, out_features=512, bias=True)\n",
       "    (13): BatchNorm1d(512, eps=1e-05, momentum=0.1, affine=True, track_running_stats=True)\n",
       "    (14): Dropout(p=0, inplace=2)\n",
       "    (15): ReLU()\n",
       "    (16): Linear(in_features=512, out_features=256, bias=True)\n",
       "    (17): BatchNorm1d(256, eps=1e-05, momentum=0.1, affine=True, track_running_stats=True)\n",
       "    (18): LeakyReLU(negative_slope=0.01)\n",
       "    (19): Linear(in_features=256, out_features=128, bias=True)\n",
       "    (20): Dropout(p=0, inplace=2)\n",
       "    (21): BatchNorm1d(128, eps=1e-05, momentum=0.1, affine=True, track_running_stats=True)\n",
       "    (22): ReLU()\n",
       "    (23): Linear(in_features=128, out_features=3, bias=True)\n",
       "    (24): Softmax(dim=1)\n",
       "  )\n",
       ")"
      ]
     },
     "execution_count": 9,
     "metadata": {},
     "output_type": "execute_result"
    }
   ],
   "source": [
    "print(\"device: \",device)\n",
    "model = model.to(device)\n",
    "criterion = nn.CrossEntropyLoss()\n",
    "\n",
    "learning_rate = 0.0001\n",
    "optimizer = optim.Adam(model.parameters(), lr=learning_rate)\n",
    "epochs = 50\n",
    "\n",
    "model.train()"
   ]
  },
  {
   "cell_type": "code",
   "execution_count": 10,
   "metadata": {},
   "outputs": [
    {
     "name": "stdout",
     "output_type": "stream",
     "text": [
      "----------------------------------------------------------------\n",
      "        Layer (type)               Output Shape         Param #\n",
      "================================================================\n",
      "            Conv2d-1         [-1, 64, 224, 224]           1,792\n",
      "           Dropout-2         [-1, 64, 224, 224]               0\n",
      "       BatchNorm2d-3         [-1, 64, 224, 224]             128\n",
      "              ReLU-4         [-1, 64, 224, 224]               0\n",
      "            Conv2d-5         [-1, 64, 224, 224]          36,928\n",
      "           Dropout-6         [-1, 64, 224, 224]               0\n",
      "       BatchNorm2d-7         [-1, 64, 224, 224]             128\n",
      "         LeakyReLU-8         [-1, 64, 224, 224]               0\n",
      "         MaxPool2d-9         [-1, 64, 112, 112]               0\n",
      "           Conv2d-10        [-1, 128, 112, 112]          73,856\n",
      "          Dropout-11        [-1, 128, 112, 112]               0\n",
      "      BatchNorm2d-12        [-1, 128, 112, 112]             256\n",
      "        LeakyReLU-13        [-1, 128, 112, 112]               0\n",
      "           Conv2d-14        [-1, 128, 112, 112]         147,584\n",
      "          Dropout-15        [-1, 128, 112, 112]               0\n",
      "      BatchNorm2d-16        [-1, 128, 112, 112]             256\n",
      "             ReLU-17        [-1, 128, 112, 112]               0\n",
      "        MaxPool2d-18          [-1, 128, 56, 56]               0\n",
      "           Conv2d-19          [-1, 256, 56, 56]         295,168\n",
      "          Dropout-20          [-1, 256, 56, 56]               0\n",
      "      BatchNorm2d-21          [-1, 256, 56, 56]             512\n",
      "        LeakyReLU-22          [-1, 256, 56, 56]               0\n",
      "           Conv2d-23          [-1, 256, 56, 56]         590,080\n",
      "          Dropout-24          [-1, 256, 56, 56]               0\n",
      "      BatchNorm2d-25          [-1, 256, 56, 56]             512\n",
      "             ReLU-26          [-1, 256, 56, 56]               0\n",
      "           Conv2d-27          [-1, 256, 56, 56]         590,080\n",
      "          Dropout-28          [-1, 256, 56, 56]               0\n",
      "      BatchNorm2d-29          [-1, 256, 56, 56]             512\n",
      "        LeakyReLU-30          [-1, 256, 56, 56]               0\n",
      "        MaxPool2d-31          [-1, 256, 28, 28]               0\n",
      "           Conv2d-32          [-1, 512, 28, 28]       1,180,160\n",
      "          Dropout-33          [-1, 512, 28, 28]               0\n",
      "      BatchNorm2d-34          [-1, 512, 28, 28]           1,024\n",
      "             ReLU-35          [-1, 512, 28, 28]               0\n",
      "           Conv2d-36          [-1, 512, 28, 28]       2,359,808\n",
      "          Dropout-37          [-1, 512, 28, 28]               0\n",
      "      BatchNorm2d-38          [-1, 512, 28, 28]           1,024\n",
      "        LeakyReLU-39          [-1, 512, 28, 28]               0\n",
      "        MaxPool2d-40          [-1, 512, 14, 14]               0\n",
      "           Conv2d-41          [-1, 512, 14, 14]       2,359,808\n",
      "          Dropout-42          [-1, 512, 14, 14]               0\n",
      "      BatchNorm2d-43          [-1, 512, 14, 14]           1,024\n",
      "             ReLU-44          [-1, 512, 14, 14]               0\n",
      "           Conv2d-45          [-1, 512, 14, 14]       2,359,808\n",
      "      BatchNorm2d-46          [-1, 512, 14, 14]           1,024\n",
      "             ReLU-47          [-1, 512, 14, 14]               0\n",
      "           Conv2d-48          [-1, 512, 14, 14]       2,359,808\n",
      "          Dropout-49          [-1, 512, 14, 14]               0\n",
      "      BatchNorm2d-50          [-1, 512, 14, 14]           1,024\n",
      "        LeakyReLU-51          [-1, 512, 14, 14]               0\n",
      "        MaxPool2d-52            [-1, 512, 7, 7]               0\n",
      "           Linear-53                 [-1, 4096]     102,764,544\n",
      "      BatchNorm1d-54                 [-1, 4096]           8,192\n",
      "          Dropout-55                 [-1, 4096]               0\n",
      "             ReLU-56                 [-1, 4096]               0\n",
      "           Linear-57                 [-1, 2048]       8,390,656\n",
      "      BatchNorm1d-58                 [-1, 2048]           4,096\n",
      "          Dropout-59                 [-1, 2048]               0\n",
      "        LeakyReLU-60                 [-1, 2048]               0\n",
      "           Linear-61                 [-1, 1024]       2,098,176\n",
      "      BatchNorm1d-62                 [-1, 1024]           2,048\n",
      "          Dropout-63                 [-1, 1024]               0\n",
      "             ReLU-64                 [-1, 1024]               0\n",
      "           Linear-65                  [-1, 512]         524,800\n",
      "      BatchNorm1d-66                  [-1, 512]           1,024\n",
      "          Dropout-67                  [-1, 512]               0\n",
      "             ReLU-68                  [-1, 512]               0\n",
      "           Linear-69                  [-1, 256]         131,328\n",
      "      BatchNorm1d-70                  [-1, 256]             512\n",
      "        LeakyReLU-71                  [-1, 256]               0\n",
      "           Linear-72                  [-1, 128]          32,896\n",
      "          Dropout-73                  [-1, 128]               0\n",
      "      BatchNorm1d-74                  [-1, 128]             256\n",
      "             ReLU-75                  [-1, 128]               0\n",
      "           Linear-76                    [-1, 3]             387\n",
      "          Softmax-77                    [-1, 3]               0\n",
      "================================================================\n",
      "Total params: 126,321,219\n",
      "Trainable params: 126,321,219\n",
      "Non-trainable params: 0\n",
      "----------------------------------------------------------------\n",
      "Input size (MB): 0.57\n",
      "Forward/backward pass size (MB): 412.34\n",
      "Params size (MB): 481.88\n",
      "Estimated Total Size (MB): 894.79\n",
      "----------------------------------------------------------------\n"
     ]
    }
   ],
   "source": [
    "from torchsummary import summary\n",
    "summary(model, (3,224,224))"
   ]
  },
  {
   "cell_type": "code",
   "execution_count": 11,
   "metadata": {},
   "outputs": [
    {
     "data": {
      "text/plain": [
       "<All keys matched successfully>"
      ]
     },
     "execution_count": 11,
     "metadata": {},
     "output_type": "execute_result"
    }
   ],
   "source": [
    "# WEIGHT_PATH = 'Saving_Path/model_weight.pth'\n",
    "# checkpoint = torch.load(WEIGHT_PATH , map_location=\"cuda:0\")\n",
    "# model.load_state_dict(checkpoint)"
   ]
  },
  {
   "cell_type": "code",
   "execution_count": 12,
   "metadata": {},
   "outputs": [
    {
     "name": "stdout",
     "output_type": "stream",
     "text": [
      "running epoch: 1\n"
     ]
    },
    {
     "data": {
      "application/vnd.jupyter.widget-view+json": {
       "model_id": "11b9837547da4bedab2d9dc8b8895e5d",
       "version_major": 2,
       "version_minor": 0
      },
      "text/plain": [
       "  0%|          | 0/423 [00:00<?, ?it/s]"
      ]
     },
     "metadata": {},
     "output_type": "display_data"
    },
    {
     "data": {
      "application/vnd.jupyter.widget-view+json": {
       "model_id": "3337e4570f0742c3bd607bd68c3a88bc",
       "version_major": 2,
       "version_minor": 0
      },
      "text/plain": [
       "  0%|          | 0/106 [00:00<?, ?it/s]"
      ]
     },
     "metadata": {},
     "output_type": "display_data"
    },
    {
     "name": "stdout",
     "output_type": "stream",
     "text": [
      "Training Loss: 0.654280 \tTraining Accuracy: 89.537461\n",
      "Validation Loss: 0.654825 \tValidation Accuracy: 89.479905\n",
      "Validation loss decreased (inf --> 0.654825).  Saving model ...\n",
      "running epoch: 2\n"
     ]
    },
    {
     "data": {
      "application/vnd.jupyter.widget-view+json": {
       "model_id": "0306af7281a04965b5479a962d3017ec",
       "version_major": 2,
       "version_minor": 0
      },
      "text/plain": [
       "  0%|          | 0/423 [00:00<?, ?it/s]"
      ]
     },
     "metadata": {},
     "output_type": "display_data"
    },
    {
     "data": {
      "application/vnd.jupyter.widget-view+json": {
       "model_id": "c1c26ed8ff90462a8f30bb1613eda04f",
       "version_major": 2,
       "version_minor": 0
      },
      "text/plain": [
       "  0%|          | 0/106 [00:00<?, ?it/s]"
      ]
     },
     "metadata": {},
     "output_type": "display_data"
    },
    {
     "name": "stdout",
     "output_type": "stream",
     "text": [
      "Training Loss: 0.653374 \tTraining Accuracy: 89.478351\n",
      "Validation Loss: 0.667528 \tValidation Accuracy: 88.356974\n",
      "running epoch: 3\n"
     ]
    },
    {
     "data": {
      "application/vnd.jupyter.widget-view+json": {
       "model_id": "f1c24082c44f496a981178a28f9f6f5f",
       "version_major": 2,
       "version_minor": 0
      },
      "text/plain": [
       "  0%|          | 0/423 [00:00<?, ?it/s]"
      ]
     },
     "metadata": {},
     "output_type": "display_data"
    },
    {
     "data": {
      "application/vnd.jupyter.widget-view+json": {
       "model_id": "959d83573999464e9a53eabe60be5f5b",
       "version_major": 2,
       "version_minor": 0
      },
      "text/plain": [
       "  0%|          | 0/106 [00:00<?, ?it/s]"
      ]
     },
     "metadata": {},
     "output_type": "display_data"
    },
    {
     "name": "stdout",
     "output_type": "stream",
     "text": [
      "Training Loss: 0.657118 \tTraining Accuracy: 89.168021\n",
      "Validation Loss: 0.663288 \tValidation Accuracy: 88.593381\n",
      "running epoch: 4\n"
     ]
    },
    {
     "data": {
      "application/vnd.jupyter.widget-view+json": {
       "model_id": "eafe5ee0692d46d3b74b4497d909f953",
       "version_major": 2,
       "version_minor": 0
      },
      "text/plain": [
       "  0%|          | 0/423 [00:00<?, ?it/s]"
      ]
     },
     "metadata": {},
     "output_type": "display_data"
    },
    {
     "data": {
      "application/vnd.jupyter.widget-view+json": {
       "model_id": "24585324ac144131992aa0992dde8826",
       "version_major": 2,
       "version_minor": 0
      },
      "text/plain": [
       "  0%|          | 0/106 [00:00<?, ?it/s]"
      ]
     },
     "metadata": {},
     "output_type": "display_data"
    },
    {
     "name": "stdout",
     "output_type": "stream",
     "text": [
      "Training Loss: 0.660951 \tTraining Accuracy: 88.857692\n",
      "Validation Loss: 0.672049 \tValidation Accuracy: 87.470449\n",
      "running epoch: 5\n"
     ]
    },
    {
     "data": {
      "application/vnd.jupyter.widget-view+json": {
       "model_id": "3c3e21d38ad044c3b469aa369da07173",
       "version_major": 2,
       "version_minor": 0
      },
      "text/plain": [
       "  0%|          | 0/423 [00:00<?, ?it/s]"
      ]
     },
     "metadata": {},
     "output_type": "display_data"
    },
    {
     "data": {
      "application/vnd.jupyter.widget-view+json": {
       "model_id": "d8d0cd6557474044803b368f29c9ef10",
       "version_major": 2,
       "version_minor": 0
      },
      "text/plain": [
       "  0%|          | 0/106 [00:00<?, ?it/s]"
      ]
     },
     "metadata": {},
     "output_type": "display_data"
    },
    {
     "name": "stdout",
     "output_type": "stream",
     "text": [
      "Training Loss: 0.653112 \tTraining Accuracy: 89.581794\n",
      "Validation Loss: 0.677576 \tValidation Accuracy: 86.879433\n",
      "running epoch: 6\n"
     ]
    },
    {
     "data": {
      "application/vnd.jupyter.widget-view+json": {
       "model_id": "09aabacaa00a4cbb8ef219c4b04bb61f",
       "version_major": 2,
       "version_minor": 0
      },
      "text/plain": [
       "  0%|          | 0/423 [00:00<?, ?it/s]"
      ]
     },
     "metadata": {},
     "output_type": "display_data"
    },
    {
     "data": {
      "application/vnd.jupyter.widget-view+json": {
       "model_id": "2c3ba8bed31f4b25898712bcb9a89d65",
       "version_major": 2,
       "version_minor": 0
      },
      "text/plain": [
       "  0%|          | 0/106 [00:00<?, ?it/s]"
      ]
     },
     "metadata": {},
     "output_type": "display_data"
    },
    {
     "name": "stdout",
     "output_type": "stream",
     "text": [
      "Training Loss: 0.654572 \tTraining Accuracy: 89.389685\n",
      "Validation Loss: 0.662681 \tValidation Accuracy: 88.711584\n",
      "running epoch: 7\n"
     ]
    },
    {
     "data": {
      "application/vnd.jupyter.widget-view+json": {
       "model_id": "5c5b642f1c8a4e5da5615118a4d0e884",
       "version_major": 2,
       "version_minor": 0
      },
      "text/plain": [
       "  0%|          | 0/423 [00:00<?, ?it/s]"
      ]
     },
     "metadata": {},
     "output_type": "display_data"
    },
    {
     "data": {
      "application/vnd.jupyter.widget-view+json": {
       "model_id": "ac16fb3fb1f749d0b2758e39fff7dc0e",
       "version_major": 2,
       "version_minor": 0
      },
      "text/plain": [
       "  0%|          | 0/106 [00:00<?, ?it/s]"
      ]
     },
     "metadata": {},
     "output_type": "display_data"
    },
    {
     "name": "stdout",
     "output_type": "stream",
     "text": [
      "Training Loss: 0.654731 \tTraining Accuracy: 89.419240\n",
      "Validation Loss: 0.665654 \tValidation Accuracy: 88.238771\n",
      "running epoch: 8\n"
     ]
    },
    {
     "data": {
      "application/vnd.jupyter.widget-view+json": {
       "model_id": "9dfeb7ff2d5c4616a16a4bc24f329332",
       "version_major": 2,
       "version_minor": 0
      },
      "text/plain": [
       "  0%|          | 0/423 [00:00<?, ?it/s]"
      ]
     },
     "metadata": {},
     "output_type": "display_data"
    },
    {
     "data": {
      "application/vnd.jupyter.widget-view+json": {
       "model_id": "d018679689954f72ac75bd9d344f296b",
       "version_major": 2,
       "version_minor": 0
      },
      "text/plain": [
       "  0%|          | 0/106 [00:00<?, ?it/s]"
      ]
     },
     "metadata": {},
     "output_type": "display_data"
    },
    {
     "name": "stdout",
     "output_type": "stream",
     "text": [
      "Training Loss: 0.649497 \tTraining Accuracy: 89.966012\n",
      "Validation Loss: 0.660673 \tValidation Accuracy: 89.125296\n",
      "running epoch: 9\n"
     ]
    },
    {
     "data": {
      "application/vnd.jupyter.widget-view+json": {
       "model_id": "280ef928041741fbb30e249b59532c56",
       "version_major": 2,
       "version_minor": 0
      },
      "text/plain": [
       "  0%|          | 0/423 [00:00<?, ?it/s]"
      ]
     },
     "metadata": {},
     "output_type": "display_data"
    },
    {
     "data": {
      "application/vnd.jupyter.widget-view+json": {
       "model_id": "c55b0cab94714ec6bedae8767bb54ce0",
       "version_major": 2,
       "version_minor": 0
      },
      "text/plain": [
       "  0%|          | 0/106 [00:00<?, ?it/s]"
      ]
     },
     "metadata": {},
     "output_type": "display_data"
    },
    {
     "name": "stdout",
     "output_type": "stream",
     "text": [
      "Training Loss: 0.653253 \tTraining Accuracy: 89.655682\n",
      "Validation Loss: 0.648046 \tValidation Accuracy: 89.952719\n",
      "Validation loss decreased (0.654825 --> 0.648046).  Saving model ...\n",
      "running epoch: 10\n"
     ]
    },
    {
     "data": {
      "application/vnd.jupyter.widget-view+json": {
       "model_id": "86cd618819df4a6f94322a66667f167f",
       "version_major": 2,
       "version_minor": 0
      },
      "text/plain": [
       "  0%|          | 0/423 [00:00<?, ?it/s]"
      ]
     },
     "metadata": {},
     "output_type": "display_data"
    },
    {
     "data": {
      "application/vnd.jupyter.widget-view+json": {
       "model_id": "672b2fdd38234f29a16f65cbe1461d25",
       "version_major": 2,
       "version_minor": 0
      },
      "text/plain": [
       "  0%|          | 0/106 [00:00<?, ?it/s]"
      ]
     },
     "metadata": {},
     "output_type": "display_data"
    },
    {
     "name": "stdout",
     "output_type": "stream",
     "text": [
      "Training Loss: 0.647093 \tTraining Accuracy: 90.291119\n",
      "Validation Loss: 0.664119 \tValidation Accuracy: 88.829787\n",
      "running epoch: 11\n"
     ]
    },
    {
     "data": {
      "application/vnd.jupyter.widget-view+json": {
       "model_id": "503df81f811a4af9b42977e686fb368b",
       "version_major": 2,
       "version_minor": 0
      },
      "text/plain": [
       "  0%|          | 0/423 [00:00<?, ?it/s]"
      ]
     },
     "metadata": {},
     "output_type": "display_data"
    },
    {
     "data": {
      "application/vnd.jupyter.widget-view+json": {
       "model_id": "94c0c0acdcef45948a38da9d0ebb9154",
       "version_major": 2,
       "version_minor": 0
      },
      "text/plain": [
       "  0%|          | 0/106 [00:00<?, ?it/s]"
      ]
     },
     "metadata": {},
     "output_type": "display_data"
    },
    {
     "name": "stdout",
     "output_type": "stream",
     "text": [
      "Training Loss: 0.651236 \tTraining Accuracy: 89.803458\n",
      "Validation Loss: 0.665939 \tValidation Accuracy: 88.416076\n",
      "running epoch: 12\n"
     ]
    },
    {
     "data": {
      "application/vnd.jupyter.widget-view+json": {
       "model_id": "325b6e1a260e43af8da91cb351d879df",
       "version_major": 2,
       "version_minor": 0
      },
      "text/plain": [
       "  0%|          | 0/423 [00:00<?, ?it/s]"
      ]
     },
     "metadata": {},
     "output_type": "display_data"
    },
    {
     "data": {
      "application/vnd.jupyter.widget-view+json": {
       "model_id": "07d7557f60154e7bb8e8eff4b7bbf34c",
       "version_major": 2,
       "version_minor": 0
      },
      "text/plain": [
       "  0%|          | 0/106 [00:00<?, ?it/s]"
      ]
     },
     "metadata": {},
     "output_type": "display_data"
    },
    {
     "name": "stdout",
     "output_type": "stream",
     "text": [
      "Training Loss: 0.648807 \tTraining Accuracy: 90.025122\n",
      "Validation Loss: 0.665957 \tValidation Accuracy: 88.416076\n",
      "running epoch: 13\n"
     ]
    },
    {
     "data": {
      "application/vnd.jupyter.widget-view+json": {
       "model_id": "3e86fa79281247ab800f4e2ee4fa61db",
       "version_major": 2,
       "version_minor": 0
      },
      "text/plain": [
       "  0%|          | 0/423 [00:00<?, ?it/s]"
      ]
     },
     "metadata": {},
     "output_type": "display_data"
    },
    {
     "data": {
      "application/vnd.jupyter.widget-view+json": {
       "model_id": "7f33a02949e440c1a458adbce5e18a34",
       "version_major": 2,
       "version_minor": 0
      },
      "text/plain": [
       "  0%|          | 0/106 [00:00<?, ?it/s]"
      ]
     },
     "metadata": {},
     "output_type": "display_data"
    },
    {
     "name": "stdout",
     "output_type": "stream",
     "text": [
      "Training Loss: 0.647499 \tTraining Accuracy: 90.172898\n",
      "Validation Loss: 0.719538 \tValidation Accuracy: 82.565012\n",
      "running epoch: 14\n"
     ]
    },
    {
     "data": {
      "application/vnd.jupyter.widget-view+json": {
       "model_id": "0c2e309aafc24e868a21590700f8d326",
       "version_major": 2,
       "version_minor": 0
      },
      "text/plain": [
       "  0%|          | 0/423 [00:00<?, ?it/s]"
      ]
     },
     "metadata": {},
     "output_type": "display_data"
    },
    {
     "data": {
      "application/vnd.jupyter.widget-view+json": {
       "model_id": "09858fcf6b3a438495f8a16d2719f0f1",
       "version_major": 2,
       "version_minor": 0
      },
      "text/plain": [
       "  0%|          | 0/106 [00:00<?, ?it/s]"
      ]
     },
     "metadata": {},
     "output_type": "display_data"
    },
    {
     "name": "stdout",
     "output_type": "stream",
     "text": [
      "Training Loss: 0.652841 \tTraining Accuracy: 89.507906\n",
      "Validation Loss: 0.658679 \tValidation Accuracy: 89.361702\n",
      "running epoch: 15\n"
     ]
    },
    {
     "data": {
      "application/vnd.jupyter.widget-view+json": {
       "model_id": "d93ad9321dc4440aa614efd95dfade8d",
       "version_major": 2,
       "version_minor": 0
      },
      "text/plain": [
       "  0%|          | 0/423 [00:00<?, ?it/s]"
      ]
     },
     "metadata": {},
     "output_type": "display_data"
    },
    {
     "data": {
      "application/vnd.jupyter.widget-view+json": {
       "model_id": "c516c087ebb7445782adfa7c63422186",
       "version_major": 2,
       "version_minor": 0
      },
      "text/plain": [
       "  0%|          | 0/106 [00:00<?, ?it/s]"
      ]
     },
     "metadata": {},
     "output_type": "display_data"
    },
    {
     "name": "stdout",
     "output_type": "stream",
     "text": [
      "Training Loss: 0.661794 \tTraining Accuracy: 88.562140\n",
      "Validation Loss: 0.657358 \tValidation Accuracy: 89.243499\n",
      "running epoch: 16\n"
     ]
    },
    {
     "data": {
      "application/vnd.jupyter.widget-view+json": {
       "model_id": "c0f149f24a1646f69801fd1cc4b7b3f3",
       "version_major": 2,
       "version_minor": 0
      },
      "text/plain": [
       "  0%|          | 0/423 [00:00<?, ?it/s]"
      ]
     },
     "metadata": {},
     "output_type": "display_data"
    },
    {
     "data": {
      "application/vnd.jupyter.widget-view+json": {
       "model_id": "7437aa3b498141049d3e53f1d9a04702",
       "version_major": 2,
       "version_minor": 0
      },
      "text/plain": [
       "  0%|          | 0/106 [00:00<?, ?it/s]"
      ]
     },
     "metadata": {},
     "output_type": "display_data"
    },
    {
     "name": "stdout",
     "output_type": "stream",
     "text": [
      "Training Loss: 0.651899 \tTraining Accuracy: 89.862568\n",
      "Validation Loss: 0.650978 \tValidation Accuracy: 89.598109\n",
      "running epoch: 17\n"
     ]
    },
    {
     "data": {
      "application/vnd.jupyter.widget-view+json": {
       "model_id": "210be926f59146858041584adfb23e01",
       "version_major": 2,
       "version_minor": 0
      },
      "text/plain": [
       "  0%|          | 0/423 [00:00<?, ?it/s]"
      ]
     },
     "metadata": {},
     "output_type": "display_data"
    },
    {
     "data": {
      "application/vnd.jupyter.widget-view+json": {
       "model_id": "afa6dfaee7d0454592b824b72b3303dd",
       "version_major": 2,
       "version_minor": 0
      },
      "text/plain": [
       "  0%|          | 0/106 [00:00<?, ?it/s]"
      ]
     },
     "metadata": {},
     "output_type": "display_data"
    },
    {
     "name": "stdout",
     "output_type": "stream",
     "text": [
      "Training Loss: 0.649216 \tTraining Accuracy: 90.025122\n",
      "Validation Loss: 0.671879 \tValidation Accuracy: 87.411348\n",
      "running epoch: 18\n"
     ]
    },
    {
     "data": {
      "application/vnd.jupyter.widget-view+json": {
       "model_id": "899cfc0d9773486bbf95569f369b0d1f",
       "version_major": 2,
       "version_minor": 0
      },
      "text/plain": [
       "  0%|          | 0/423 [00:00<?, ?it/s]"
      ]
     },
     "metadata": {},
     "output_type": "display_data"
    },
    {
     "data": {
      "application/vnd.jupyter.widget-view+json": {
       "model_id": "95586595ad0d49f49c0a8450e3987274",
       "version_major": 2,
       "version_minor": 0
      },
      "text/plain": [
       "  0%|          | 0/106 [00:00<?, ?it/s]"
      ]
     },
     "metadata": {},
     "output_type": "display_data"
    },
    {
     "name": "stdout",
     "output_type": "stream",
     "text": [
      "Training Loss: 0.643695 \tTraining Accuracy: 90.616226\n",
      "Validation Loss: 0.657745 \tValidation Accuracy: 88.888889\n",
      "running epoch: 19\n"
     ]
    },
    {
     "data": {
      "application/vnd.jupyter.widget-view+json": {
       "model_id": "b76cdb8ae7594aee83cbdf2cd9b99298",
       "version_major": 2,
       "version_minor": 0
      },
      "text/plain": [
       "  0%|          | 0/423 [00:00<?, ?it/s]"
      ]
     },
     "metadata": {},
     "output_type": "display_data"
    },
    {
     "data": {
      "application/vnd.jupyter.widget-view+json": {
       "model_id": "ca86789d5c294285b3b0c2c94022c0f5",
       "version_major": 2,
       "version_minor": 0
      },
      "text/plain": [
       "  0%|          | 0/106 [00:00<?, ?it/s]"
      ]
     },
     "metadata": {},
     "output_type": "display_data"
    },
    {
     "name": "stdout",
     "output_type": "stream",
     "text": [
      "Training Loss: 0.647134 \tTraining Accuracy: 90.202453\n",
      "Validation Loss: 0.660719 \tValidation Accuracy: 89.302600\n",
      "running epoch: 20\n"
     ]
    },
    {
     "data": {
      "application/vnd.jupyter.widget-view+json": {
       "model_id": "1febbc7729d34fc48b3c2af2f57ba369",
       "version_major": 2,
       "version_minor": 0
      },
      "text/plain": [
       "  0%|          | 0/423 [00:00<?, ?it/s]"
      ]
     },
     "metadata": {},
     "output_type": "display_data"
    },
    {
     "data": {
      "application/vnd.jupyter.widget-view+json": {
       "model_id": "dc311824a0e34c2aae7e32ef7c313a9a",
       "version_major": 2,
       "version_minor": 0
      },
      "text/plain": [
       "  0%|          | 0/106 [00:00<?, ?it/s]"
      ]
     },
     "metadata": {},
     "output_type": "display_data"
    },
    {
     "name": "stdout",
     "output_type": "stream",
     "text": [
      "Training Loss: 0.645128 \tTraining Accuracy: 90.542338\n",
      "Validation Loss: 0.658536 \tValidation Accuracy: 88.829787\n",
      "running epoch: 21\n"
     ]
    },
    {
     "data": {
      "application/vnd.jupyter.widget-view+json": {
       "model_id": "87955b9ec78f4fb3ae9dadb2a1e8378f",
       "version_major": 2,
       "version_minor": 0
      },
      "text/plain": [
       "  0%|          | 0/423 [00:00<?, ?it/s]"
      ]
     },
     "metadata": {},
     "output_type": "display_data"
    },
    {
     "data": {
      "application/vnd.jupyter.widget-view+json": {
       "model_id": "5ab23ab3d2ec4fda8174a344ff9987e3",
       "version_major": 2,
       "version_minor": 0
      },
      "text/plain": [
       "  0%|          | 0/106 [00:00<?, ?it/s]"
      ]
     },
     "metadata": {},
     "output_type": "display_data"
    },
    {
     "name": "stdout",
     "output_type": "stream",
     "text": [
      "Training Loss: 0.647712 \tTraining Accuracy: 90.099010\n",
      "Validation Loss: 0.728806 \tValidation Accuracy: 81.737589\n",
      "running epoch: 22\n"
     ]
    },
    {
     "data": {
      "application/vnd.jupyter.widget-view+json": {
       "model_id": "74c16782ad014473b713a2d5cd0ff244",
       "version_major": 2,
       "version_minor": 0
      },
      "text/plain": [
       "  0%|          | 0/423 [00:00<?, ?it/s]"
      ]
     },
     "metadata": {},
     "output_type": "display_data"
    },
    {
     "data": {
      "application/vnd.jupyter.widget-view+json": {
       "model_id": "e41dde28bf7343fa8819f3cb6e0be4b0",
       "version_major": 2,
       "version_minor": 0
      },
      "text/plain": [
       "  0%|          | 0/106 [00:00<?, ?it/s]"
      ]
     },
     "metadata": {},
     "output_type": "display_data"
    },
    {
     "name": "stdout",
     "output_type": "stream",
     "text": [
      "Training Loss: 0.648654 \tTraining Accuracy: 89.892124\n",
      "Validation Loss: 0.651485 \tValidation Accuracy: 90.070922\n",
      "running epoch: 23\n"
     ]
    },
    {
     "data": {
      "application/vnd.jupyter.widget-view+json": {
       "model_id": "5311700831cc4bbf85fe58b86b0c4986",
       "version_major": 2,
       "version_minor": 0
      },
      "text/plain": [
       "  0%|          | 0/423 [00:00<?, ?it/s]"
      ]
     },
     "metadata": {},
     "output_type": "display_data"
    },
    {
     "data": {
      "application/vnd.jupyter.widget-view+json": {
       "model_id": "d14c880045b74f3ca6e23ede3da3b62a",
       "version_major": 2,
       "version_minor": 0
      },
      "text/plain": [
       "  0%|          | 0/106 [00:00<?, ?it/s]"
      ]
     },
     "metadata": {},
     "output_type": "display_data"
    },
    {
     "name": "stdout",
     "output_type": "stream",
     "text": [
      "Training Loss: 0.642625 \tTraining Accuracy: 90.557115\n",
      "Validation Loss: 0.658096 \tValidation Accuracy: 89.302600\n",
      "running epoch: 24\n"
     ]
    },
    {
     "data": {
      "application/vnd.jupyter.widget-view+json": {
       "model_id": "b0a7176cc3f14585ac1a45b497e274a4",
       "version_major": 2,
       "version_minor": 0
      },
      "text/plain": [
       "  0%|          | 0/423 [00:00<?, ?it/s]"
      ]
     },
     "metadata": {},
     "output_type": "display_data"
    },
    {
     "data": {
      "application/vnd.jupyter.widget-view+json": {
       "model_id": "a36f3fe875eb43a5b0562d0a2c1d7dc0",
       "version_major": 2,
       "version_minor": 0
      },
      "text/plain": [
       "  0%|          | 0/106 [00:00<?, ?it/s]"
      ]
     },
     "metadata": {},
     "output_type": "display_data"
    },
    {
     "name": "stdout",
     "output_type": "stream",
     "text": [
      "Training Loss: 0.647945 \tTraining Accuracy: 90.025122\n",
      "Validation Loss: 0.649084 \tValidation Accuracy: 90.130024\n",
      "running epoch: 25\n"
     ]
    },
    {
     "data": {
      "application/vnd.jupyter.widget-view+json": {
       "model_id": "136ae0fa10da49979580d1212fb4c45a",
       "version_major": 2,
       "version_minor": 0
      },
      "text/plain": [
       "  0%|          | 0/423 [00:00<?, ?it/s]"
      ]
     },
     "metadata": {},
     "output_type": "display_data"
    },
    {
     "data": {
      "application/vnd.jupyter.widget-view+json": {
       "model_id": "05f27e1984bb41f6801136717c7f5aa8",
       "version_major": 2,
       "version_minor": 0
      },
      "text/plain": [
       "  0%|          | 0/106 [00:00<?, ?it/s]"
      ]
     },
     "metadata": {},
     "output_type": "display_data"
    },
    {
     "name": "stdout",
     "output_type": "stream",
     "text": [
      "Training Loss: 0.652327 \tTraining Accuracy: 89.626127\n",
      "Validation Loss: 0.666324 \tValidation Accuracy: 88.238771\n",
      "running epoch: 26\n"
     ]
    },
    {
     "data": {
      "application/vnd.jupyter.widget-view+json": {
       "model_id": "fcd8d50c7e904d1bb27780207c8d2b81",
       "version_major": 2,
       "version_minor": 0
      },
      "text/plain": [
       "  0%|          | 0/423 [00:00<?, ?it/s]"
      ]
     },
     "metadata": {},
     "output_type": "display_data"
    },
    {
     "data": {
      "application/vnd.jupyter.widget-view+json": {
       "model_id": "bbaf9462914c4c898a989bfce5600ee3",
       "version_major": 2,
       "version_minor": 0
      },
      "text/plain": [
       "  0%|          | 0/106 [00:00<?, ?it/s]"
      ]
     },
     "metadata": {},
     "output_type": "display_data"
    },
    {
     "name": "stdout",
     "output_type": "stream",
     "text": [
      "Training Loss: 0.649276 \tTraining Accuracy: 89.995567\n",
      "Validation Loss: 0.661807 \tValidation Accuracy: 88.652482\n",
      "running epoch: 27\n"
     ]
    },
    {
     "data": {
      "application/vnd.jupyter.widget-view+json": {
       "model_id": "3f1345b819f44a7f93c7f6db9a2a1dd2",
       "version_major": 2,
       "version_minor": 0
      },
      "text/plain": [
       "  0%|          | 0/423 [00:00<?, ?it/s]"
      ]
     },
     "metadata": {},
     "output_type": "display_data"
    },
    {
     "data": {
      "application/vnd.jupyter.widget-view+json": {
       "model_id": "ff07db53250f4c0f98f614d814764ba3",
       "version_major": 2,
       "version_minor": 0
      },
      "text/plain": [
       "  0%|          | 0/106 [00:00<?, ?it/s]"
      ]
     },
     "metadata": {},
     "output_type": "display_data"
    },
    {
     "name": "stdout",
     "output_type": "stream",
     "text": [
      "Training Loss: 0.649318 \tTraining Accuracy: 89.773903\n",
      "Validation Loss: 0.654832 \tValidation Accuracy: 89.302600\n",
      "running epoch: 28\n"
     ]
    },
    {
     "data": {
      "application/vnd.jupyter.widget-view+json": {
       "model_id": "719a097b7fbd4accb0ceca6a415bc8f2",
       "version_major": 2,
       "version_minor": 0
      },
      "text/plain": [
       "  0%|          | 0/423 [00:00<?, ?it/s]"
      ]
     },
     "metadata": {},
     "output_type": "display_data"
    },
    {
     "data": {
      "application/vnd.jupyter.widget-view+json": {
       "model_id": "43aafa7b7b2d4881bf00527462436a5f",
       "version_major": 2,
       "version_minor": 0
      },
      "text/plain": [
       "  0%|          | 0/106 [00:00<?, ?it/s]"
      ]
     },
     "metadata": {},
     "output_type": "display_data"
    },
    {
     "name": "stdout",
     "output_type": "stream",
     "text": [
      "Training Loss: 0.640933 \tTraining Accuracy: 91.089109\n",
      "Validation Loss: 0.657646 \tValidation Accuracy: 89.066194\n",
      "running epoch: 29\n"
     ]
    },
    {
     "data": {
      "application/vnd.jupyter.widget-view+json": {
       "model_id": "c7216e1a96bf4279957280cc6970f86d",
       "version_major": 2,
       "version_minor": 0
      },
      "text/plain": [
       "  0%|          | 0/423 [00:00<?, ?it/s]"
      ]
     },
     "metadata": {},
     "output_type": "display_data"
    },
    {
     "data": {
      "application/vnd.jupyter.widget-view+json": {
       "model_id": "29460eba0df7414996e4cac07e195605",
       "version_major": 2,
       "version_minor": 0
      },
      "text/plain": [
       "  0%|          | 0/106 [00:00<?, ?it/s]"
      ]
     },
     "metadata": {},
     "output_type": "display_data"
    },
    {
     "name": "stdout",
     "output_type": "stream",
     "text": [
      "Training Loss: 0.639474 \tTraining Accuracy: 90.956111\n",
      "Validation Loss: 0.655711 \tValidation Accuracy: 89.007092\n",
      "running epoch: 30\n"
     ]
    },
    {
     "data": {
      "application/vnd.jupyter.widget-view+json": {
       "model_id": "7953d812c5b94478bae3379d40667d98",
       "version_major": 2,
       "version_minor": 0
      },
      "text/plain": [
       "  0%|          | 0/423 [00:00<?, ?it/s]"
      ]
     },
     "metadata": {},
     "output_type": "display_data"
    },
    {
     "data": {
      "application/vnd.jupyter.widget-view+json": {
       "model_id": "693aa938257b466b8c497f2f952c8e76",
       "version_major": 2,
       "version_minor": 0
      },
      "text/plain": [
       "  0%|          | 0/106 [00:00<?, ?it/s]"
      ]
     },
     "metadata": {},
     "output_type": "display_data"
    },
    {
     "name": "stdout",
     "output_type": "stream",
     "text": [
      "Training Loss: 0.640796 \tTraining Accuracy: 90.749224\n",
      "Validation Loss: 0.651215 \tValidation Accuracy: 89.657210\n",
      "running epoch: 31\n"
     ]
    },
    {
     "data": {
      "application/vnd.jupyter.widget-view+json": {
       "model_id": "9a69efbdcb4b456cba2c9369d01f88e9",
       "version_major": 2,
       "version_minor": 0
      },
      "text/plain": [
       "  0%|          | 0/423 [00:00<?, ?it/s]"
      ]
     },
     "metadata": {},
     "output_type": "display_data"
    },
    {
     "data": {
      "application/vnd.jupyter.widget-view+json": {
       "model_id": "4a1e9b7d564041fbb5348b11655fca93",
       "version_major": 2,
       "version_minor": 0
      },
      "text/plain": [
       "  0%|          | 0/106 [00:00<?, ?it/s]"
      ]
     },
     "metadata": {},
     "output_type": "display_data"
    },
    {
     "name": "stdout",
     "output_type": "stream",
     "text": [
      "Training Loss: 0.643716 \tTraining Accuracy: 90.468450\n",
      "Validation Loss: 0.646323 \tValidation Accuracy: 90.543735\n",
      "Validation loss decreased (0.648046 --> 0.646323).  Saving model ...\n",
      "running epoch: 32\n"
     ]
    },
    {
     "data": {
      "application/vnd.jupyter.widget-view+json": {
       "model_id": "37548f6de4a1481485785e2cda29b07c",
       "version_major": 2,
       "version_minor": 0
      },
      "text/plain": [
       "  0%|          | 0/423 [00:00<?, ?it/s]"
      ]
     },
     "metadata": {},
     "output_type": "display_data"
    },
    {
     "data": {
      "application/vnd.jupyter.widget-view+json": {
       "model_id": "7aedb3b5cd5845d59a2832cb05aa0a37",
       "version_major": 2,
       "version_minor": 0
      },
      "text/plain": [
       "  0%|          | 0/106 [00:00<?, ?it/s]"
      ]
     },
     "metadata": {},
     "output_type": "display_data"
    },
    {
     "name": "stdout",
     "output_type": "stream",
     "text": [
      "Training Loss: 0.646377 \tTraining Accuracy: 90.143343\n",
      "Validation Loss: 0.648284 \tValidation Accuracy: 90.307329\n",
      "running epoch: 33\n"
     ]
    },
    {
     "data": {
      "application/vnd.jupyter.widget-view+json": {
       "model_id": "db46c9f595db4fd9b800d4ce428366bc",
       "version_major": 2,
       "version_minor": 0
      },
      "text/plain": [
       "  0%|          | 0/423 [00:00<?, ?it/s]"
      ]
     },
     "metadata": {},
     "output_type": "display_data"
    },
    {
     "data": {
      "application/vnd.jupyter.widget-view+json": {
       "model_id": "a3ea51b0589d4f65b3e18c89d96865eb",
       "version_major": 2,
       "version_minor": 0
      },
      "text/plain": [
       "  0%|          | 0/106 [00:00<?, ?it/s]"
      ]
     },
     "metadata": {},
     "output_type": "display_data"
    },
    {
     "name": "stdout",
     "output_type": "stream",
     "text": [
      "Training Loss: 0.644061 \tTraining Accuracy: 90.483227\n",
      "Validation Loss: 0.675980 \tValidation Accuracy: 86.879433\n",
      "running epoch: 34\n"
     ]
    },
    {
     "data": {
      "application/vnd.jupyter.widget-view+json": {
       "model_id": "cfcae289be88461ea40ee0c46150d6bf",
       "version_major": 2,
       "version_minor": 0
      },
      "text/plain": [
       "  0%|          | 0/423 [00:00<?, ?it/s]"
      ]
     },
     "metadata": {},
     "output_type": "display_data"
    },
    {
     "data": {
      "application/vnd.jupyter.widget-view+json": {
       "model_id": "9ae013d7d9a249b8aaa3ffddaa38e816",
       "version_major": 2,
       "version_minor": 0
      },
      "text/plain": [
       "  0%|          | 0/106 [00:00<?, ?it/s]"
      ]
     },
     "metadata": {},
     "output_type": "display_data"
    },
    {
     "name": "stdout",
     "output_type": "stream",
     "text": [
      "Training Loss: 0.636935 \tTraining Accuracy: 91.192552\n",
      "Validation Loss: 0.655557 \tValidation Accuracy: 88.947991\n",
      "running epoch: 35\n"
     ]
    },
    {
     "data": {
      "application/vnd.jupyter.widget-view+json": {
       "model_id": "7f5ef671e72c4b9f9cd66528dd7589c0",
       "version_major": 2,
       "version_minor": 0
      },
      "text/plain": [
       "  0%|          | 0/423 [00:00<?, ?it/s]"
      ]
     },
     "metadata": {},
     "output_type": "display_data"
    },
    {
     "data": {
      "application/vnd.jupyter.widget-view+json": {
       "model_id": "0eba42aa97dc407a9cfc3f2abaeecbc9",
       "version_major": 2,
       "version_minor": 0
      },
      "text/plain": [
       "  0%|          | 0/106 [00:00<?, ?it/s]"
      ]
     },
     "metadata": {},
     "output_type": "display_data"
    },
    {
     "name": "stdout",
     "output_type": "stream",
     "text": [
      "Training Loss: 0.643377 \tTraining Accuracy: 90.675336\n",
      "Validation Loss: 0.654537 \tValidation Accuracy: 89.479905\n",
      "running epoch: 36\n"
     ]
    },
    {
     "data": {
      "application/vnd.jupyter.widget-view+json": {
       "model_id": "4b696ca42d614646abc5648f92384a36",
       "version_major": 2,
       "version_minor": 0
      },
      "text/plain": [
       "  0%|          | 0/423 [00:00<?, ?it/s]"
      ]
     },
     "metadata": {},
     "output_type": "display_data"
    },
    {
     "data": {
      "application/vnd.jupyter.widget-view+json": {
       "model_id": "7a6c5667fb73459ca5dae28c14e6ef2e",
       "version_major": 2,
       "version_minor": 0
      },
      "text/plain": [
       "  0%|          | 0/106 [00:00<?, ?it/s]"
      ]
     },
     "metadata": {},
     "output_type": "display_data"
    },
    {
     "name": "stdout",
     "output_type": "stream",
     "text": [
      "Training Loss: 0.638879 \tTraining Accuracy: 91.059554\n",
      "Validation Loss: 0.663466 \tValidation Accuracy: 88.534279\n",
      "running epoch: 37\n"
     ]
    },
    {
     "data": {
      "application/vnd.jupyter.widget-view+json": {
       "model_id": "fabdb07b125d41178fff5f61b26867d6",
       "version_major": 2,
       "version_minor": 0
      },
      "text/plain": [
       "  0%|          | 0/423 [00:00<?, ?it/s]"
      ]
     },
     "metadata": {},
     "output_type": "display_data"
    },
    {
     "data": {
      "application/vnd.jupyter.widget-view+json": {
       "model_id": "598e479f896d4bc9846bcc894e043ea8",
       "version_major": 2,
       "version_minor": 0
      },
      "text/plain": [
       "  0%|          | 0/106 [00:00<?, ?it/s]"
      ]
     },
     "metadata": {},
     "output_type": "display_data"
    },
    {
     "name": "stdout",
     "output_type": "stream",
     "text": [
      "Training Loss: 0.639002 \tTraining Accuracy: 91.074331\n",
      "Validation Loss: 0.657698 \tValidation Accuracy: 88.888889\n",
      "running epoch: 38\n"
     ]
    },
    {
     "data": {
      "application/vnd.jupyter.widget-view+json": {
       "model_id": "0672fbd9ab374094a43d1bb22ff49039",
       "version_major": 2,
       "version_minor": 0
      },
      "text/plain": [
       "  0%|          | 0/423 [00:00<?, ?it/s]"
      ]
     },
     "metadata": {},
     "output_type": "display_data"
    },
    {
     "data": {
      "application/vnd.jupyter.widget-view+json": {
       "model_id": "e9833eff8dd94f42a76d0471144324d2",
       "version_major": 2,
       "version_minor": 0
      },
      "text/plain": [
       "  0%|          | 0/106 [00:00<?, ?it/s]"
      ]
     },
     "metadata": {},
     "output_type": "display_data"
    },
    {
     "name": "stdout",
     "output_type": "stream",
     "text": [
      "Training Loss: 0.637723 \tTraining Accuracy: 91.133442\n",
      "Validation Loss: 0.653051 \tValidation Accuracy: 89.598109\n",
      "running epoch: 39\n"
     ]
    },
    {
     "data": {
      "application/vnd.jupyter.widget-view+json": {
       "model_id": "fc7d1eeffb5945d3bd226c452d0acd61",
       "version_major": 2,
       "version_minor": 0
      },
      "text/plain": [
       "  0%|          | 0/423 [00:00<?, ?it/s]"
      ]
     },
     "metadata": {},
     "output_type": "display_data"
    },
    {
     "data": {
      "application/vnd.jupyter.widget-view+json": {
       "model_id": "f178f95b87604a429a29f7a7d19632f3",
       "version_major": 2,
       "version_minor": 0
      },
      "text/plain": [
       "  0%|          | 0/106 [00:00<?, ?it/s]"
      ]
     },
     "metadata": {},
     "output_type": "display_data"
    },
    {
     "name": "stdout",
     "output_type": "stream",
     "text": [
      "Training Loss: 0.641842 \tTraining Accuracy: 90.616226\n",
      "Validation Loss: 0.665490 \tValidation Accuracy: 88.416076\n",
      "running epoch: 40\n"
     ]
    },
    {
     "data": {
      "application/vnd.jupyter.widget-view+json": {
       "model_id": "93c02791ae40452e872cf54adfa26f7d",
       "version_major": 2,
       "version_minor": 0
      },
      "text/plain": [
       "  0%|          | 0/423 [00:00<?, ?it/s]"
      ]
     },
     "metadata": {},
     "output_type": "display_data"
    },
    {
     "data": {
      "application/vnd.jupyter.widget-view+json": {
       "model_id": "06a9079dc1f7496a9548be3dafaa3baa",
       "version_major": 2,
       "version_minor": 0
      },
      "text/plain": [
       "  0%|          | 0/106 [00:00<?, ?it/s]"
      ]
     },
     "metadata": {},
     "output_type": "display_data"
    },
    {
     "name": "stdout",
     "output_type": "stream",
     "text": [
      "Training Loss: 0.640996 \tTraining Accuracy: 90.867445\n",
      "Validation Loss: 0.656396 \tValidation Accuracy: 89.479905\n",
      "running epoch: 41\n"
     ]
    },
    {
     "data": {
      "application/vnd.jupyter.widget-view+json": {
       "model_id": "5b1efb0ee1b04b8cad82f27e679a2709",
       "version_major": 2,
       "version_minor": 0
      },
      "text/plain": [
       "  0%|          | 0/423 [00:00<?, ?it/s]"
      ]
     },
     "metadata": {},
     "output_type": "display_data"
    },
    {
     "data": {
      "application/vnd.jupyter.widget-view+json": {
       "model_id": "3e85c9cb354c431780c164e09f72795f",
       "version_major": 2,
       "version_minor": 0
      },
      "text/plain": [
       "  0%|          | 0/106 [00:00<?, ?it/s]"
      ]
     },
     "metadata": {},
     "output_type": "display_data"
    },
    {
     "name": "stdout",
     "output_type": "stream",
     "text": [
      "Training Loss: 0.641126 \tTraining Accuracy: 90.808335\n",
      "Validation Loss: 0.679173 \tValidation Accuracy: 86.820331\n",
      "running epoch: 42\n"
     ]
    },
    {
     "data": {
      "application/vnd.jupyter.widget-view+json": {
       "model_id": "7547c67118b342ca972fe80d592f0714",
       "version_major": 2,
       "version_minor": 0
      },
      "text/plain": [
       "  0%|          | 0/423 [00:00<?, ?it/s]"
      ]
     },
     "metadata": {},
     "output_type": "display_data"
    },
    {
     "data": {
      "application/vnd.jupyter.widget-view+json": {
       "model_id": "50a551e4dbe247278f2140f3f31a8a53",
       "version_major": 2,
       "version_minor": 0
      },
      "text/plain": [
       "  0%|          | 0/106 [00:00<?, ?it/s]"
      ]
     },
     "metadata": {},
     "output_type": "display_data"
    },
    {
     "name": "stdout",
     "output_type": "stream",
     "text": [
      "Training Loss: 0.639185 \tTraining Accuracy: 90.941333\n",
      "Validation Loss: 0.650298 \tValidation Accuracy: 89.598109\n",
      "running epoch: 43\n"
     ]
    },
    {
     "data": {
      "application/vnd.jupyter.widget-view+json": {
       "model_id": "f84008616d0d4d7ab129231fec5b8bff",
       "version_major": 2,
       "version_minor": 0
      },
      "text/plain": [
       "  0%|          | 0/423 [00:00<?, ?it/s]"
      ]
     },
     "metadata": {},
     "output_type": "display_data"
    },
    {
     "data": {
      "application/vnd.jupyter.widget-view+json": {
       "model_id": "47d579f3af43474982e313193662d42c",
       "version_major": 2,
       "version_minor": 0
      },
      "text/plain": [
       "  0%|          | 0/106 [00:00<?, ?it/s]"
      ]
     },
     "metadata": {},
     "output_type": "display_data"
    },
    {
     "name": "stdout",
     "output_type": "stream",
     "text": [
      "Training Loss: 0.630211 \tTraining Accuracy: 91.887099\n",
      "Validation Loss: 0.651399 \tValidation Accuracy: 89.775414\n",
      "running epoch: 44\n"
     ]
    },
    {
     "data": {
      "application/vnd.jupyter.widget-view+json": {
       "model_id": "fac79f7c6d494b82b9e09e840d2f9908",
       "version_major": 2,
       "version_minor": 0
      },
      "text/plain": [
       "  0%|          | 0/423 [00:00<?, ?it/s]"
      ]
     },
     "metadata": {},
     "output_type": "display_data"
    },
    {
     "data": {
      "application/vnd.jupyter.widget-view+json": {
       "model_id": "9cbfe7c0c5ba4db6ac717499aabd5429",
       "version_major": 2,
       "version_minor": 0
      },
      "text/plain": [
       "  0%|          | 0/106 [00:00<?, ?it/s]"
      ]
     },
     "metadata": {},
     "output_type": "display_data"
    },
    {
     "name": "stdout",
     "output_type": "stream",
     "text": [
      "Training Loss: 0.638027 \tTraining Accuracy: 91.103887\n",
      "Validation Loss: 0.667603 \tValidation Accuracy: 88.179669\n",
      "running epoch: 45\n"
     ]
    },
    {
     "data": {
      "application/vnd.jupyter.widget-view+json": {
       "model_id": "df5784f0513a433e846120991ef062b2",
       "version_major": 2,
       "version_minor": 0
      },
      "text/plain": [
       "  0%|          | 0/423 [00:00<?, ?it/s]"
      ]
     },
     "metadata": {},
     "output_type": "display_data"
    },
    {
     "data": {
      "application/vnd.jupyter.widget-view+json": {
       "model_id": "da2acb97f47e47358da10482eb891691",
       "version_major": 2,
       "version_minor": 0
      },
      "text/plain": [
       "  0%|          | 0/106 [00:00<?, ?it/s]"
      ]
     },
     "metadata": {},
     "output_type": "display_data"
    },
    {
     "name": "stdout",
     "output_type": "stream",
     "text": [
      "Training Loss: 0.633972 \tTraining Accuracy: 91.532437\n",
      "Validation Loss: 0.641280 \tValidation Accuracy: 91.016548\n",
      "Validation loss decreased (0.646323 --> 0.641280).  Saving model ...\n",
      "running epoch: 46\n"
     ]
    },
    {
     "data": {
      "application/vnd.jupyter.widget-view+json": {
       "model_id": "9998a9d49eca4baeb2b735d0f2c0b6a6",
       "version_major": 2,
       "version_minor": 0
      },
      "text/plain": [
       "  0%|          | 0/423 [00:00<?, ?it/s]"
      ]
     },
     "metadata": {},
     "output_type": "display_data"
    },
    {
     "data": {
      "application/vnd.jupyter.widget-view+json": {
       "model_id": "7d00130a7d8d4e0c8d724b0739ca23b4",
       "version_major": 2,
       "version_minor": 0
      },
      "text/plain": [
       "  0%|          | 0/106 [00:00<?, ?it/s]"
      ]
     },
     "metadata": {},
     "output_type": "display_data"
    },
    {
     "name": "stdout",
     "output_type": "stream",
     "text": [
      "Training Loss: 0.640321 \tTraining Accuracy: 90.970888\n",
      "Validation Loss: 0.663172 \tValidation Accuracy: 88.416076\n",
      "running epoch: 47\n"
     ]
    },
    {
     "data": {
      "application/vnd.jupyter.widget-view+json": {
       "model_id": "66869faa427d45be815640244ebcd523",
       "version_major": 2,
       "version_minor": 0
      },
      "text/plain": [
       "  0%|          | 0/423 [00:00<?, ?it/s]"
      ]
     },
     "metadata": {},
     "output_type": "display_data"
    },
    {
     "data": {
      "application/vnd.jupyter.widget-view+json": {
       "model_id": "1feaa25ceb5f4f9e9df64bf963ccd543",
       "version_major": 2,
       "version_minor": 0
      },
      "text/plain": [
       "  0%|          | 0/106 [00:00<?, ?it/s]"
      ]
     },
     "metadata": {},
     "output_type": "display_data"
    },
    {
     "name": "stdout",
     "output_type": "stream",
     "text": [
      "Training Loss: 0.635185 \tTraining Accuracy: 91.414216\n",
      "Validation Loss: 0.652034 \tValidation Accuracy: 89.420804\n",
      "running epoch: 48\n"
     ]
    },
    {
     "data": {
      "application/vnd.jupyter.widget-view+json": {
       "model_id": "d816af0f32394e4db41aef19d89acac5",
       "version_major": 2,
       "version_minor": 0
      },
      "text/plain": [
       "  0%|          | 0/423 [00:00<?, ?it/s]"
      ]
     },
     "metadata": {},
     "output_type": "display_data"
    },
    {
     "data": {
      "application/vnd.jupyter.widget-view+json": {
       "model_id": "f91ac221d757469b801292b97230ca37",
       "version_major": 2,
       "version_minor": 0
      },
      "text/plain": [
       "  0%|          | 0/106 [00:00<?, ?it/s]"
      ]
     },
     "metadata": {},
     "output_type": "display_data"
    },
    {
     "name": "stdout",
     "output_type": "stream",
     "text": [
      "Training Loss: 0.638946 \tTraining Accuracy: 91.089109\n",
      "Validation Loss: 0.653558 \tValidation Accuracy: 89.716312\n",
      "running epoch: 49\n"
     ]
    },
    {
     "data": {
      "application/vnd.jupyter.widget-view+json": {
       "model_id": "cf22568f2f2e4897b2025949262875b3",
       "version_major": 2,
       "version_minor": 0
      },
      "text/plain": [
       "  0%|          | 0/423 [00:00<?, ?it/s]"
      ]
     },
     "metadata": {},
     "output_type": "display_data"
    },
    {
     "data": {
      "application/vnd.jupyter.widget-view+json": {
       "model_id": "5660b4af1a134fd89ef36228aca25b76",
       "version_major": 2,
       "version_minor": 0
      },
      "text/plain": [
       "  0%|          | 0/106 [00:00<?, ?it/s]"
      ]
     },
     "metadata": {},
     "output_type": "display_data"
    },
    {
     "name": "stdout",
     "output_type": "stream",
     "text": [
      "Training Loss: 0.636034 \tTraining Accuracy: 91.295995\n",
      "Validation Loss: 0.643369 \tValidation Accuracy: 90.484634\n",
      "running epoch: 50\n"
     ]
    },
    {
     "data": {
      "application/vnd.jupyter.widget-view+json": {
       "model_id": "28b98c9bfc67441e88f8dad31ac459b1",
       "version_major": 2,
       "version_minor": 0
      },
      "text/plain": [
       "  0%|          | 0/423 [00:00<?, ?it/s]"
      ]
     },
     "metadata": {},
     "output_type": "display_data"
    },
    {
     "data": {
      "application/vnd.jupyter.widget-view+json": {
       "model_id": "80bb134c3657471d970cf529c08e1009",
       "version_major": 2,
       "version_minor": 0
      },
      "text/plain": [
       "  0%|          | 0/106 [00:00<?, ?it/s]"
      ]
     },
     "metadata": {},
     "output_type": "display_data"
    },
    {
     "name": "stdout",
     "output_type": "stream",
     "text": [
      "Training Loss: 0.637606 \tTraining Accuracy: 91.266440\n",
      "Validation Loss: 0.643301 \tValidation Accuracy: 90.721040\n",
      "Finished Training\n"
     ]
    }
   ],
   "source": [
    "# Training model\n",
    "train_loss_list = []\n",
    "train_acc_list = []\n",
    "valid_loss_list = []\n",
    "valid_acc_list = []\n",
    "\n",
    "# Specify the saving weight path\n",
    "SAVING_PATH = './Saving_Path'\n",
    "\n",
    "valid_loss_min = np.Inf # track change in validation loss\n",
    "\n",
    "for epoch in range(1, epochs+1):# loop over the dataset multiple times\n",
    "\n",
    "    # keep track of training and validation loss\n",
    "    train_loss = 0.0\n",
    "    valid_loss = 0.0\n",
    "    print('running epoch: {}'.format(epoch))\n",
    "\n",
    "    # train the model\n",
    "    model.train()\n",
    "    train_correct = 0\n",
    "    train_total = 0\n",
    "    for data, target in tqdm(trainloader):\n",
    "      # move tensors to GPU if CUDA is available\n",
    "      data, target = data.to(device), target.to(device)\n",
    "      # clear the gradients of all optimized variables\n",
    "      optimizer.zero_grad()\n",
    "      # forward pass: compute predicted outputs by passing inputs to the model\n",
    "      output = model(data)\n",
    "      # calculate the batch loss\n",
    "      loss = criterion(output, target)\n",
    "      # backward pass: compute gradient of the loss with respect to model parameters\n",
    "      loss.backward()\n",
    "      # perform a single optimization step (parameter update)\n",
    "      optimizer.step()\n",
    "      # update training loss\n",
    "      train_loss += loss.item()*data.size(0)\n",
    "      # update training Accuracy\n",
    "      train_total += target.size(0)\n",
    "      _, predicted = torch.max(output.data, 1)\n",
    "      train_correct += (predicted == target).sum().item()\n",
    "\n",
    "\n",
    "    # validate the model\n",
    "    model.eval()\n",
    "    valid_correct = 0\n",
    "    valid_total = 0\n",
    "    for data, target in tqdm(validloader):\n",
    "        # move tensors to GPU if CUDA is available\n",
    "        target = target.long()\n",
    "        data, target = data.to(device), target.to(device)\n",
    "        # forward pass: compute predicted outputs by passing inputs to the model\n",
    "        output = model(data)\n",
    "        # calculate the batch loss\n",
    "        loss = criterion(output, target)\n",
    "        # update average validation loss\n",
    "        valid_loss += loss.item()*data.size(0)\n",
    "        # update validation Accuracy\n",
    "        valid_total += target.size(0)\n",
    "        _, predicted = torch.max(output.data, 1)\n",
    "        valid_correct += (predicted == target).sum().item()\n",
    "    # calculate average losses\n",
    "    train_loss = train_loss/len(trainloader.dataset)\n",
    "    valid_loss = valid_loss/len(validloader.dataset)\n",
    "\n",
    "    # print training/validation statistics\n",
    "    print('Training Loss: {:.6f} \\tTraining Accuracy: {:.6f}'.format(train_loss,(100 * train_correct / train_total)))\n",
    "    print('Validation Loss: {:.6f} \\tValidation Accuracy: {:.6f}'.format(valid_loss,(100 * valid_correct / valid_total)))\n",
    "\n",
    "    train_loss_list.append(train_loss)\n",
    "    train_acc_list.append(100 * train_correct / train_total)\n",
    "    valid_loss_list.append(valid_loss)\n",
    "    valid_acc_list.append(100 * valid_correct / valid_total)\n",
    "\n",
    "    # save model if validation loss has decreased\n",
    "    if valid_loss <= valid_loss_min:\n",
    "        print('Validation loss decreased ({:.6f} --> {:.6f}).  Saving model ...'.format(\n",
    "        valid_loss_min,\n",
    "        valid_loss))\n",
    "        torch.save(model.state_dict(), SAVING_PATH+'/model_weight.pth')\n",
    "        valid_loss_min = valid_loss\n",
    "\n",
    "print('Finished Training')"
   ]
  },
  {
   "cell_type": "code",
   "execution_count": 13,
   "metadata": {},
   "outputs": [],
   "source": [
    "def plt_acc_all():\n",
    "    fig = plt.figure(figsize=(15, 5))\n",
    "    ax1 = fig.add_subplot(1, 2, 1)\n",
    "    ax1.set_title('All acc')\n",
    "\n",
    "    ax1.plot(train_acc_list)\n",
    "    ax1.plot(valid_acc_list)\n",
    "\n",
    "    ax1.legend(['train_acc', 'valid_acc'], loc='upper left')\n",
    "    ax1.set_xlabel('epoch')\n",
    "    plt.show()\n",
    "\n",
    "def plt_loss_all():\n",
    "    fig = plt.figure(figsize=(15, 5))\n",
    "    ax1 = fig.add_subplot(1, 2, 1)\n",
    "    ax1.set_title('All loss')\n",
    "\n",
    "    ax1.plot(train_loss_list)\n",
    "    ax1.plot(valid_loss_list)\n",
    "\n",
    "    ax1.legend(['train_loss', 'valid_loss'], loc='upper left')\n",
    "    ax1.set_xlabel('epoch')\n",
    "    plt.show()"
   ]
  },
  {
   "cell_type": "code",
   "execution_count": 14,
   "metadata": {},
   "outputs": [
    {
     "data": {
      "image/png": "[encoded data removed]",
      "text/plain": [
       "<Figure size 1500x500 with 1 Axes>"
      ]
     },
     "metadata": {},
     "output_type": "display_data"
    },
    {
     "data": {
      "image/png": "[encoded data removed]",
      "text/plain": [
       "<Figure size 1500x500 with 1 Axes>"
      ]
     },
     "metadata": {},
     "output_type": "display_data"
    }
   ],
   "source": [
    "plt_loss_all()\n",
    "plt_acc_all()"
   ]
  },
  {
   "cell_type": "code",
   "execution_count": 15,
   "metadata": {},
   "outputs": [
    {
     "name": "stdout",
     "output_type": "stream",
     "text": [
      "2\n",
      "Image batch dimensions: torch.Size([1, 3, 224, 224])\n"
     ]
    }
   ],
   "source": [
    "print(predicted[0].item())\n",
    "import numpy as np\n",
    "import matplotlib.pyplot as plt\n",
    "import pandas as pd\n",
    "import torch.utils.data as data_utils\n",
    "TESTDATA_PATH = './noodles_dataset_3k/test/unknown'\n",
    "for data in os.walk(TESTDATA_PATH):\n",
    "  test_data=data[2]\n",
    "test_transform = transforms.Compose([\n",
    "\n",
    "    transforms.Resize((224, 224)),\n",
    "\n",
    "    transforms.ToTensor(),\n",
    "\n",
    "    transforms.Normalize(\n",
    "        mean=[0.485,0.456,0.406],\n",
    "        std=[0.229,0.224,0.225])\n",
    "    ])\n",
    "class Custom_testset(Dataset):\n",
    "    def __init__(self,testData,transform=None):\n",
    "        # --------------------------------------------\n",
    "        # Initialize paths, transforms, and so on\n",
    "        # --------------------------------------------\n",
    "        self.images = testData\n",
    "        #self.label = trainLabel\n",
    "        self.transform = transform\n",
    "\n",
    "    def __getitem__(self, index):\n",
    "        # --------------------------------------------\n",
    "        # 1. Read from file (using numpy.fromfile, PIL.Image.open)\n",
    "        # 2. Preprocess the data (torchvision.Transform).\n",
    "        # 3. Return the data (e.g. image and label)\n",
    "        # --------------------------------------------\n",
    "        imgpath = self.images[index]\n",
    "        img = Image.open(imgpath).convert('RGB')\n",
    "\n",
    "        if self.transform:\n",
    "          img = self.transform(img)\n",
    "\n",
    "        return img\n",
    "\n",
    "    def __len__(self):\n",
    "        # --------------------------------------------\n",
    "        # Indicate the total size of the dataset\n",
    "        # --------------------------------------------\n",
    "        return len(self.images)\n",
    "\n",
    "def trueclass(num):\n",
    "  if num==0:\n",
    "    return 0\n",
    "  elif num==1:\n",
    "    return 1\n",
    "  elif num==2:\n",
    "    return 2\n",
    "\n",
    "imgpath=[]\n",
    "prediction=[]\n",
    "for photo in test_data:\n",
    "  path_img = os.path.join(TESTDATA_PATH,photo)\n",
    "  imgpath.append(path_img)\n",
    "# print('id = ',test_data)\n",
    "test_set = Custom_testset(imgpath,test_transform)\n",
    "testloader = DataLoader(test_set, batch_size=1 , shuffle=False, num_workers = 0)\n",
    "for images in testloader:\n",
    "    print('Image batch dimensions:', images.shape)\n",
    "    break\n",
    "\n",
    "#images = np.transpose(images, (1,2,0))\n",
    "for images in testloader:\n",
    "  #print('image = ',images)\n",
    "  images=images.to(device)\n",
    "  output = model(images)\n",
    "  predicted = torch.argmax(output,dim=1)\n",
    "  #print('Image predicted label = :', predicted.item())\n",
    "  prediction=np.append(prediction,trueclass(predicted.item()))"
   ]
  },
  {
   "cell_type": "code",
   "execution_count": 16,
   "metadata": {},
   "outputs": [
    {
     "name": "stdout",
     "output_type": "stream",
     "text": [
      "      ID  Target\n",
      "0      0       1\n",
      "1      1       2\n",
      "2      2       0\n",
      "3      3       1\n",
      "4      4       2\n",
      "..   ...     ...\n",
      "995  995       0\n",
      "996  996       0\n",
      "997  997       2\n",
      "998  998       1\n",
      "999  999       0\n",
      "\n",
      "[1000 rows x 2 columns]\n"
     ]
    }
   ],
   "source": [
    "prediction_lst=prediction.tolist()\n",
    "for i in range(len(prediction_lst)):\n",
    "  prediction_lst[i] = int(prediction_lst[i])\n",
    "test_data_num=[]\n",
    "for i in range(len(test_data)):\n",
    "  test_data_num.append(i)\n",
    "\n",
    "example={'ID':test_data_num,\n",
    "      'Target':prediction_lst}\n",
    "df = pd.DataFrame(example)\n",
    "print(df)\n",
    "\n",
    "df.to_csv('./result.csv',index=False)"
   ]
  }
 ],
 "metadata": {
  "kernelspec": {
   "display_name": "Python 3",
   "language": "python",
   "name": "python3"
  },
  "language_info": {
   "codemirror_mode": {
    "name": "ipython",
    "version": 3
   },
   "file_extension": ".py",
   "mimetype": "text/x-python",
   "name": "python",
   "nbconvert_exporter": "python",
   "pygments_lexer": "ipython3",
   "version": "3.11.4"
  }
 },
 "nbformat": 4,
 "nbformat_minor": 2
}
